{
 "cells": [
  {
   "cell_type": "markdown",
   "metadata": {},
   "source": [
    "# Data Modeling with Apache Cassandra"
   ]
  },
  {
   "cell_type": "markdown",
   "metadata": {},
   "source": [
    "#### Import Python packages "
   ]
  },
  {
   "cell_type": "code",
   "execution_count": 46,
   "metadata": {},
   "outputs": [],
   "source": [
    "import os\n",
    "\n",
    "import pandas as pd\n",
    "\n",
    "from file_mgr import FileMgr\n",
    "from cassandra_mgr import CassandraMgr"
   ]
  },
  {
   "cell_type": "markdown",
   "metadata": {},
   "source": [
    "#### Configurations"
   ]
  },
  {
   "cell_type": "markdown",
   "metadata": {},
   "source": [
    "Cassandra configuration:"
   ]
  },
  {
   "cell_type": "code",
   "execution_count": 47,
   "metadata": {},
   "outputs": [],
   "source": [
    "cassandra_config = {\n",
    "    'ip' : ['127.0.0.1'],\n",
    "    'replication_factor' : '1',\n",
    "    'replication_class' : 'SimpleStrategy',\n",
    "    'key_space' : 'sparkify',\n",
    "    'tables' : ['music_sessions', 'music_users', 'music_songs']\n",
    "}"
   ]
  },
  {
   "cell_type": "markdown",
   "metadata": {},
   "source": [
    "Event file configuration:"
   ]
  },
  {
   "cell_type": "code",
   "execution_count": 48,
   "metadata": {},
   "outputs": [],
   "source": [
    "event_directory: str = os.getcwd() + '/event_data'\n",
    "    \n",
    "event_file_path = 'event_datafile_new.csv'\n",
    "   \n",
    "csv_columns_interested = ['artist','firstName','gender','itemInSession','lastName','length', \\\n",
    "                          'level','location','sessionId','song','userId']\n",
    "\n",
    "pandas_events_schema = {\n",
    "    csv_columns_interested[0]:'str',\n",
    "    csv_columns_interested[1]:'str',\n",
    "    csv_columns_interested[2]:'str',\n",
    "    csv_columns_interested[3]:'int',\n",
    "    csv_columns_interested[4]:'str',\n",
    "    csv_columns_interested[5]:'float',\n",
    "    csv_columns_interested[6]:'str',\n",
    "    csv_columns_interested[7]:'str',\n",
    "    csv_columns_interested[8]:'int32',\n",
    "    csv_columns_interested[9]:'str',\n",
    "    csv_columns_interested[10]:'int32',\n",
    "}"
   ]
  },
  {
   "cell_type": "markdown",
   "metadata": {},
   "source": [
    "#### Creating list of filepaths to process original event csv data files"
   ]
  },
  {
   "cell_type": "code",
   "execution_count": 49,
   "metadata": {},
   "outputs": [],
   "source": [
    "file_path_list = FileMgr.get_directory_files_list(event_directory)"
   ]
  },
  {
   "cell_type": "markdown",
   "metadata": {},
   "source": [
    "#### Processing the files to create the data file csv that will be used for Apache Casssandra tables"
   ]
  },
  {
   "cell_type": "code",
   "execution_count": 50,
   "metadata": {},
   "outputs": [],
   "source": [
    "df_total = FileMgr.files_to_pd(file_path_list)\n",
    "\n",
    "df_total_interested = df_total[csv_columns_interested]\n",
    "df_total_interested = df_total_interested.dropna(subset=['artist'])\n",
    "\n",
    "FileMgr.pd_to_file(event_file_path, df_total_interested)"
   ]
  },
  {
   "cell_type": "markdown",
   "metadata": {},
   "source": [
    "#### Check event file rows"
   ]
  },
  {
   "cell_type": "code",
   "execution_count": 51,
   "metadata": {},
   "outputs": [
    {
     "name": "stdout",
     "output_type": "stream",
     "text": [
      "6821\n"
     ]
    }
   ],
   "source": [
    "print(FileMgr.file_num_rows(event_file_path))"
   ]
  },
  {
   "cell_type": "markdown",
   "metadata": {},
   "source": [
    "#### Read the event file into a pandas dataframe"
   ]
  },
  {
   "cell_type": "code",
   "execution_count": 52,
   "metadata": {},
   "outputs": [],
   "source": [
    "df = FileMgr.read_file_to_pd(event_file_path, pandas_events_schema)"
   ]
  },
  {
   "cell_type": "markdown",
   "metadata": {},
   "source": [
    "\n",
    "### Now the csv file <font color=red>event_datafile_new.csv</font> is located within the Workspace directory. \n",
    "\n",
    "The event_datafile_new.csv contains the following columns: \n",
    "- artist \n",
    "- firstName of user\n",
    "- gender of user\n",
    "- item number in session\n",
    "- last name of user\n",
    "- length of the song\n",
    "- level (paid or free song)\n",
    "- location of the user\n",
    "- sessionId\n",
    "- song title\n",
    "- userId\n",
    "\n",
    "The image below is a screenshot of what the denormalized data should appear like in the <font color=red>**event_datafile_new.csv**</font> after the code above is run:<br>\n",
    "\n",
    "<img src=\"images/image_event_datafile_new.jpg\">"
   ]
  },
  {
   "cell_type": "markdown",
   "metadata": {},
   "source": [
    "#### Creating a Cluster, create and set Keyspace"
   ]
  },
  {
   "cell_type": "code",
   "execution_count": 53,
   "metadata": {},
   "outputs": [],
   "source": [
    "cass = CassandraMgr(cassandra_config)\n",
    "session = cass.connect()"
   ]
  },
  {
   "cell_type": "markdown",
   "metadata": {},
   "source": [
    "### Now we need to create tables to run the following queries.\n",
    "\n",
    "Remember, with Apache Cassandra you model the database tables on the queries you want to run."
   ]
  },
  {
   "cell_type": "markdown",
   "metadata": {},
   "source": [
    "### Query 1: Give me the artist, song title and song's length in the music app history that was heard during sessionId = 338, and itemInSession = 4"
   ]
  },
  {
   "cell_type": "markdown",
   "metadata": {},
   "source": [
    "#### Primary key\n",
    "It is adapted to the the filter of the query. Both fields are part of the partition key. "
   ]
  },
  {
   "cell_type": "code",
   "execution_count": 54,
   "metadata": {},
   "outputs": [],
   "source": [
    "primary_key1 = \"(session_id, item_in_session)\""
   ]
  },
  {
   "cell_type": "markdown",
   "metadata": {},
   "source": [
    "#### Create table\n",
    "The fields required are:\n",
    "- session_id: bigint. It's possible to have a lot of sessions in a future.\n",
    "- item_in_session: int. There's no many items into a session.\n",
    "- artist: text\n",
    "- song_title: text\n",
    "- song_length: decimal"
   ]
  },
  {
   "cell_type": "code",
   "execution_count": 55,
   "metadata": {},
   "outputs": [],
   "source": [
    "fields1 = ['session_id bigint', 'item_in_session int', 'artist text', 'song_title text','song_length float']\n",
    "\n",
    "CassandraMgr.create_table(session, cassandra_config['tables'][0], fields1, primary_key1)                   "
   ]
  },
  {
   "cell_type": "markdown",
   "metadata": {},
   "source": [
    "#### Insert info into table"
   ]
  },
  {
   "cell_type": "code",
   "execution_count": 56,
   "metadata": {
    "scrolled": false
   },
   "outputs": [],
   "source": [
    "columns_query1 = ['session_id', 'item_in_session', 'artist', 'song_title', 'song_length']\n",
    "projection_query1 = ['sessionId', 'itemInSession', 'artist', 'song', 'length']\n",
    "\n",
    "df1 = df[projection_query1]\n",
    "\n",
    "CassandraMgr.insert_cassandra_from_df(session, cassandra_config['tables'][0], columns_query1, df1)   "
   ]
  },
  {
   "cell_type": "markdown",
   "metadata": {},
   "source": [
    "#### SELECT to verify that the data have been inserted well"
   ]
  },
  {
   "cell_type": "code",
   "execution_count": 57,
   "metadata": {
    "scrolled": true
   },
   "outputs": [
    {
     "name": "stdout",
     "output_type": "stream",
     "text": [
      "Faithless Music Matters (Mark Knight Dub) 495.30731201171875\n"
     ]
    }
   ],
   "source": [
    "fields = ['artist', 'song_title', 'song_length']\n",
    "filters = \"session_id = 338 and item_in_session = 4\"\n",
    "rows = CassandraMgr.select(session, fields, cassandra_config['tables'][0], filters)\n",
    "    \n",
    "for row in rows:\n",
    "    print (row.artist, row.song_title, row.song_length)"
   ]
  },
  {
   "cell_type": "markdown",
   "metadata": {},
   "source": [
    "### Query 2. Give me only the following: name of artist, song (sorted by itemInSession) and user (first and last name) for userid = 10, sessionid = 182"
   ]
  },
  {
   "cell_type": "markdown",
   "metadata": {},
   "source": [
    "#### Primary key\n",
    "It is adapted to the the filter of the query. Either user_id or session_id are part of the PARTITION KEY. I have used item_in_session as CLUSTERED COLUMN because we need the result sortered by that field."
   ]
  },
  {
   "cell_type": "code",
   "execution_count": 58,
   "metadata": {},
   "outputs": [],
   "source": [
    "primary_key2 = \"((user_id, session_id), item_in_session)\""
   ]
  },
  {
   "cell_type": "markdown",
   "metadata": {},
   "source": [
    "#### Create table\n",
    "The fields required are:\n",
    "- user_id: bigint. It's possible to have a lot of users in a future.\n",
    "- session_id: bigint. It's possible to have a lot of sessions in a future.\n",
    "- item_in_session: int. There's no many items into a session.\n",
    "- artist: text\n",
    "- song_title: text\n",
    "- first_name: text\n",
    "- last_name: text"
   ]
  },
  {
   "cell_type": "code",
   "execution_count": 59,
   "metadata": {},
   "outputs": [],
   "source": [
    "fields2 = ['user_id bigint', 'session_id bigint', 'item_in_session int', 'artist text', \\\n",
    "                'song_title text', 'first_name text', 'last_name text']\n",
    "\n",
    "CassandraMgr.create_table(session, cassandra_config['tables'][1], fields2, primary_key2)                          "
   ]
  },
  {
   "cell_type": "markdown",
   "metadata": {},
   "source": [
    "#### Insert info into table"
   ]
  },
  {
   "cell_type": "code",
   "execution_count": 60,
   "metadata": {},
   "outputs": [],
   "source": [
    "columns_query2 = ['user_id', 'session_id', 'item_in_session', 'artist', 'song_title', 'first_name', 'last_name']\n",
    "projection_query2 = ['userId', 'sessionId', 'itemInSession', 'artist', 'song', 'firstName', 'lastName']\n",
    "\n",
    "df2 = df[projection_query2]\n",
    "\n",
    "CassandraMgr.insert_cassandra_from_df(session, cassandra_config['tables'][1], columns_query2, df2)   "
   ]
  },
  {
   "cell_type": "markdown",
   "metadata": {},
   "source": [
    "#### SELECT to verify that the data have been inserted well"
   ]
  },
  {
   "cell_type": "code",
   "execution_count": 61,
   "metadata": {},
   "outputs": [
    {
     "name": "stdout",
     "output_type": "stream",
     "text": [
      "Down To The Bone Keep On Keepin' On Sylvie Cruz\n",
      "Three Drives Greece 2000 Sylvie Cruz\n",
      "Sebastien Tellier Kilometer Sylvie Cruz\n",
      "Lonnie Gordon Catch You Baby (Steve Pitron & Max Sanna Radio Edit) Sylvie Cruz\n"
     ]
    }
   ],
   "source": [
    "fields = ['artist', 'song_title', 'first_name', 'last_name']\n",
    "filters = \"user_id = 10 and session_id = 182\"\n",
    "rows = CassandraMgr.select(session, fields, cassandra_config['tables'][1], filters)\n",
    "    \n",
    "for row in rows:\n",
    "    print (row.artist, row.song_title, row.first_name, row.last_name)"
   ]
  },
  {
   "cell_type": "markdown",
   "metadata": {},
   "source": [
    "### Query 3. Give me every user name (first and last) in my music app history who listened to the song 'All Hands Against His Own'"
   ]
  },
  {
   "cell_type": "markdown",
   "metadata": {},
   "source": [
    "#### Primary key\n",
    "\n",
    "It is adapted to the the filter of the query. Song is the PARTITION KEY, but it is not unique and we need more columns to make a unique primary key. We use artist, length and user_id as CLUSTERED COLUMNS."
   ]
  },
  {
   "cell_type": "code",
   "execution_count": 62,
   "metadata": {},
   "outputs": [],
   "source": [
    "primary_key3 = \"((song), user_id)\""
   ]
  },
  {
   "cell_type": "markdown",
   "metadata": {},
   "source": [
    "#### Create table\n",
    "The fields required are:\n",
    "- song: text\n",
    "- user_id bigint\n",
    "- first_name: text\n",
    "- last_name: text"
   ]
  },
  {
   "cell_type": "code",
   "execution_count": 63,
   "metadata": {},
   "outputs": [],
   "source": [
    "fields3 = ['song text', 'user_id bigint', 'first_name text', 'last_name text']\n",
    "\n",
    "CassandraMgr.create_table(session, cassandra_config['tables'][2], fields3, primary_key3)                                              "
   ]
  },
  {
   "cell_type": "markdown",
   "metadata": {},
   "source": [
    "#### Insert info into table"
   ]
  },
  {
   "cell_type": "code",
   "execution_count": 64,
   "metadata": {},
   "outputs": [],
   "source": [
    "columns_query3 = ['song', 'user_id', 'first_name', 'last_name']\n",
    "projection_query3 = ['song', 'userId', 'firstName', 'lastName']\n",
    "\n",
    "df3 = df[projection_query3]\n",
    "\n",
    "CassandraMgr.insert_cassandra_from_df(session, cassandra_config['tables'][2], columns_query3, df3)   "
   ]
  },
  {
   "cell_type": "markdown",
   "metadata": {},
   "source": [
    "#### SELECT to verify that the data have been inserted well"
   ]
  },
  {
   "cell_type": "code",
   "execution_count": 65,
   "metadata": {},
   "outputs": [
    {
     "name": "stdout",
     "output_type": "stream",
     "text": [
      "Jacqueline Lynch\n",
      "Tegan Levine\n",
      "Sara Johnson\n"
     ]
    }
   ],
   "source": [
    "fields = ['first_name', 'last_name']\n",
    "filters = \"song= 'All Hands Against His Own'\"\n",
    "rows = CassandraMgr.select(session, fields, cassandra_config['tables'][2], filters)\n",
    "    \n",
    "for row in rows:\n",
    "    print (row.first_name, row.last_name)"
   ]
  },
  {
   "cell_type": "markdown",
   "metadata": {},
   "source": [
    "### Drop the tables before closing out the sessions"
   ]
  },
  {
   "cell_type": "code",
   "execution_count": 66,
   "metadata": {},
   "outputs": [],
   "source": [
    "CassandraMgr.drop_table(session, cassandra_config['tables'][0])"
   ]
  },
  {
   "cell_type": "code",
   "execution_count": 67,
   "metadata": {},
   "outputs": [],
   "source": [
    "CassandraMgr.drop_table(session, cassandra_config['tables'][1])"
   ]
  },
  {
   "cell_type": "code",
   "execution_count": 68,
   "metadata": {},
   "outputs": [],
   "source": [
    "CassandraMgr.drop_table(session, cassandra_config['tables'][2])"
   ]
  },
  {
   "cell_type": "markdown",
   "metadata": {},
   "source": [
    "### Close the session and cluster connection¶"
   ]
  },
  {
   "cell_type": "code",
   "execution_count": 69,
   "metadata": {},
   "outputs": [],
   "source": [
    "cass.disconnect(session)"
   ]
  }
 ],
 "metadata": {
  "kernelspec": {
   "display_name": "Python 3 (ipykernel)",
   "language": "python",
   "name": "python3"
  },
  "language_info": {
   "codemirror_mode": {
    "name": "ipython",
    "version": 3
   },
   "file_extension": ".py",
   "mimetype": "text/x-python",
   "name": "python",
   "nbconvert_exporter": "python",
   "pygments_lexer": "ipython3",
   "version": "3.9.12"
  }
 },
 "nbformat": 4,
 "nbformat_minor": 2
}
